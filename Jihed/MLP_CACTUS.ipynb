{
 "cells": [
  {
   "cell_type": "code",
   "execution_count": 69,
   "metadata": {},
   "outputs": [],
   "source": [
    "import keras\n",
    "import os\n",
    "import pandas as pd\n",
    "import numpy as np\n",
    "import tensorflow as tf\n",
    "import cv2\n",
    "import sys\n",
    "\n",
    "from os import listdir\n",
    "from os.path import isfile, join\n",
    "from sklearn.model_selection import train_test_split\n",
    "from keras.layers import Input\n",
    "from keras.models import Model\n",
    "from keras.optimizers import Adam\n",
    "\n",
    "\n",
    "\n",
    "from keras.callbacks import TensorBoard\n",
    "from datetime import datetime\n",
    "\n",
    "from keras.layers import Dense, Activation\n",
    "from keras.optimizers import SGD\n",
    "from keras.models import Sequential"
   ]
  },
  {
   "cell_type": "code",
   "execution_count": 70,
   "metadata": {},
   "outputs": [],
   "source": [
    "train_csv = pd.read_csv('C:/Users/Jihed/Downloads/data/train.csv')"
   ]
  },
  {
   "cell_type": "code",
   "execution_count": 71,
   "metadata": {},
   "outputs": [],
   "source": [
    "filenames = ['C:/Users/Jihed/Downloads/data/train/' + fname for fname in train_csv['id'].tolist()]\n",
    "labels = train_csv['has_cactus'].tolist()"
   ]
  },
  {
   "cell_type": "code",
   "execution_count": 72,
   "metadata": {},
   "outputs": [],
   "source": [
    "train=[]\n",
    "for file_name in filenames:\n",
    "    img=cv2.imread(file_name)\n",
    "    img=img.reshape(32*32*3,)\n",
    "    img=img/255\n",
    "    train.append(img)"
   ]
  },
  {
   "cell_type": "code",
   "execution_count": 73,
   "metadata": {},
   "outputs": [
    {
     "data": {
      "text/plain": [
       "(3072,)"
      ]
     },
     "execution_count": 73,
     "metadata": {},
     "output_type": "execute_result"
    }
   ],
   "source": [
    "train[0].shape"
   ]
  },
  {
   "cell_type": "code",
   "execution_count": 74,
   "metadata": {},
   "outputs": [],
   "source": [
    "x_train, x_test, y_train, y_test = train_test_split(train,labels,train_size=0.9)"
   ]
  },
  {
   "cell_type": "code",
   "execution_count": 75,
   "metadata": {},
   "outputs": [],
   "source": [
    "num_train = len(x_train)\n",
    "num_val = len(x_test)"
   ]
  },
  {
   "cell_type": "code",
   "execution_count": 76,
   "metadata": {},
   "outputs": [
    {
     "name": "stdout",
     "output_type": "stream",
     "text": [
      "(15750, 3072)\n"
     ]
    }
   ],
   "source": [
    "x_train = np.array(x_train)\n",
    "#x_train = np.reshape(x_train, (-1, 32, 32, 3))\n",
    "print(x_train.shape)"
   ]
  },
  {
   "cell_type": "code",
   "execution_count": 77,
   "metadata": {},
   "outputs": [
    {
     "name": "stdout",
     "output_type": "stream",
     "text": [
      "(1750, 3072)\n"
     ]
    }
   ],
   "source": [
    "x_test = np.array(x_test)\n",
    "#x_test = np.reshape(x_test, (-1, 32, 32, 3))\n",
    "print(x_test.shape)"
   ]
  },
  {
   "cell_type": "code",
   "execution_count": 78,
   "metadata": {},
   "outputs": [],
   "source": [
    "y_train = keras.utils.to_categorical(y_train, 2)\n",
    "y_test = keras.utils.to_categorical(y_test, 2)"
   ]
  },
  {
   "cell_type": "code",
   "execution_count": 79,
   "metadata": {},
   "outputs": [
    {
     "data": {
      "text/plain": [
       "(1750, 3072)"
      ]
     },
     "execution_count": 79,
     "metadata": {},
     "output_type": "execute_result"
    }
   ],
   "source": [
    "x_test.shape"
   ]
  },
  {
   "cell_type": "code",
   "execution_count": 175,
   "metadata": {},
   "outputs": [],
   "source": [
    "nb_layer=3\n",
    "act='selu'\n",
    "n=128\n",
    "lr=0.01"
   ]
  },
  {
   "cell_type": "code",
   "execution_count": 176,
   "metadata": {},
   "outputs": [
    {
     "name": "stdout",
     "output_type": "stream",
     "text": [
      "_________________________________________________________________\n",
      "Layer (type)                 Output Shape              Param #   \n",
      "=================================================================\n",
      "input_33 (InputLayer)        (None, 3072)              0         \n",
      "_________________________________________________________________\n",
      "dense_183 (Dense)            (None, 128)               393344    \n",
      "_________________________________________________________________\n",
      "dense_184 (Dense)            (None, 128)               16512     \n",
      "_________________________________________________________________\n",
      "dense_185 (Dense)            (None, 128)               16512     \n",
      "_________________________________________________________________\n",
      "dense_186 (Dense)            (None, 128)               16512     \n",
      "_________________________________________________________________\n",
      "dense_187 (Dense)            (None, 2)                 258       \n",
      "=================================================================\n",
      "Total params: 443,138\n",
      "Trainable params: 443,138\n",
      "Non-trainable params: 0\n",
      "_________________________________________________________________\n"
     ]
    }
   ],
   "source": [
    "inputs = Input(shape=train[0].shape)\n",
    "x=Dense(n, activation=act)(inputs)\n",
    "for i in range(nb_layer):\n",
    "    x=Dense(n, activation=act)(x)\n",
    "output=Dense(2, activation='sigmoid')(x)\n",
    "sgd = SGD(lr=0.1)\n",
    "model = Model(inputs=inputs, outputs=output)\n",
    "\n",
    "model.compile(optimizer='adam',\n",
    "              loss='binary_crossentropy',\n",
    "              metrics=['accuracy'])\n",
    "model.summary()"
   ]
  },
  {
   "cell_type": "code",
   "execution_count": null,
   "metadata": {},
   "outputs": [],
   "source": [
    "inputs_1 = Input(shape=train[0].shape)\n",
    "inputs_2 = Input(shape=train[0].shape)\n",
    "y=Dense(n, activation=act)(inputs_1)\n",
    "x=Dense(n, activation=act)(inputs_2)\n",
    "for i in range(nb_layer):\n",
    "    x=Dense(n, activation=act)(x)\n",
    "output_2=Dense(1, activation='sigmoid', name=\"output_2\")(x)\n",
    "for i in range(nb_layer):\n",
    "    y=Dense(n, activation=act)(y)\n",
    "output_1=DActivation(activation=softmax, name=\"output_1\")(y)\n",
    "sgd = SGD(lr=0.1)\n",
    "model = Model(inputs=[inputs_1, inputs_2], outputs=[output_1, output_2])\n",
    "\n",
    "model.compile(optimizer='adam',\n",
    "              loss='binary_crossentropy',\n",
    "              metrics=['accuracy'])\n",
    "model.summary()"
   ]
  },
  {
   "cell_type": "code",
   "execution_count": 177,
   "metadata": {},
   "outputs": [
    {
     "name": "stdout",
     "output_type": "stream",
     "text": [
      "Train on 15750 samples, validate on 1750 samples\n",
      "Epoch 1/50\n",
      "15750/15750 [==============================] - 21s 1ms/step - loss: 0.4995 - acc: 0.7766 - val_loss: 0.3301 - val_acc: 0.8254\n",
      "Epoch 2/50\n",
      "15750/15750 [==============================] - 8s 477us/step - loss: 0.3269 - acc: 0.8539 - val_loss: 0.2689 - val_acc: 0.8923\n",
      "Epoch 3/50\n",
      "15750/15750 [==============================] - 7s 436us/step - loss: 0.2880 - acc: 0.8773 - val_loss: 0.2711 - val_acc: 0.8891\n",
      "Epoch 4/50\n",
      "15750/15750 [==============================] - 8s 478us/step - loss: 0.2867 - acc: 0.8780 - val_loss: 0.3897 - val_acc: 0.8311\n",
      "Epoch 5/50\n",
      "15750/15750 [==============================] - 7s 452us/step - loss: 0.2759 - acc: 0.8850 - val_loss: 0.3555 - val_acc: 0.8286\n",
      "Epoch 6/50\n",
      "15750/15750 [==============================] - 8s 484us/step - loss: 0.2720 - acc: 0.8850 - val_loss: 0.2973 - val_acc: 0.8674\n",
      "Epoch 7/50\n",
      "15750/15750 [==============================] - 7s 465us/step - loss: 0.2694 - acc: 0.8864 - val_loss: 0.3741 - val_acc: 0.8171\n",
      "Epoch 8/50\n",
      "15750/15750 [==============================] - 8s 483us/step - loss: 0.2738 - acc: 0.8811 - val_loss: 0.2679 - val_acc: 0.8911\n",
      "Epoch 9/50\n",
      "15750/15750 [==============================] - 8s 486us/step - loss: 0.2539 - acc: 0.8948 - val_loss: 0.2689 - val_acc: 0.8966\n",
      "Epoch 10/50\n",
      "15750/15750 [==============================] - 8s 489us/step - loss: 0.2535 - acc: 0.8951 - val_loss: 0.3289 - val_acc: 0.8540\n",
      "Epoch 11/50\n",
      "15750/15750 [==============================] - 8s 481us/step - loss: 0.2665 - acc: 0.8902 - val_loss: 0.3122 - val_acc: 0.8674\n",
      "Epoch 12/50\n",
      "15750/15750 [==============================] - 8s 479us/step - loss: 0.2456 - acc: 0.8982 - val_loss: 0.3059 - val_acc: 0.8686\n",
      "Epoch 13/50\n",
      "15750/15750 [==============================] - 8s 499us/step - loss: 0.2599 - acc: 0.8898 - val_loss: 0.2874 - val_acc: 0.8851\n",
      "Epoch 14/50\n",
      "15750/15750 [==============================] - 8s 485us/step - loss: 0.2668 - acc: 0.8855 - val_loss: 0.2707 - val_acc: 0.8800\n",
      "Epoch 15/50\n",
      "15750/15750 [==============================] - 8s 508us/step - loss: 0.2607 - acc: 0.8898 - val_loss: 0.3071 - val_acc: 0.8734\n",
      "Epoch 16/50\n",
      "15750/15750 [==============================] - 8s 480us/step - loss: 0.2497 - acc: 0.8963 - val_loss: 0.2629 - val_acc: 0.8883\n",
      "Epoch 17/50\n",
      "15750/15750 [==============================] - 9s 579us/step - loss: 0.2509 - acc: 0.8979 - val_loss: 0.3052 - val_acc: 0.8591\n",
      "Epoch 18/50\n",
      "15750/15750 [==============================] - 9s 570us/step - loss: 0.2627 - acc: 0.8886 - val_loss: 0.3235 - val_acc: 0.8806\n",
      "Epoch 19/50\n",
      "15750/15750 [==============================] - 9s 579us/step - loss: 0.2520 - acc: 0.8956 - val_loss: 0.2426 - val_acc: 0.8989\n",
      "Epoch 20/50\n",
      "15750/15750 [==============================] - 8s 505us/step - loss: 0.2407 - acc: 0.9010 - val_loss: 0.2830 - val_acc: 0.8849\n",
      "Epoch 21/50\n",
      "15750/15750 [==============================] - 8s 493us/step - loss: 0.2328 - acc: 0.9060 - val_loss: 0.2609 - val_acc: 0.8869\n",
      "Epoch 22/50\n",
      "15750/15750 [==============================] - 8s 504us/step - loss: 0.2297 - acc: 0.9057 - val_loss: 0.3988 - val_acc: 0.8503\n",
      "Epoch 23/50\n",
      "15750/15750 [==============================] - 8s 500us/step - loss: 0.2325 - acc: 0.9043 - val_loss: 0.2234 - val_acc: 0.9097\n",
      "Epoch 24/50\n",
      "15750/15750 [==============================] - 8s 493us/step - loss: 0.2201 - acc: 0.9105 - val_loss: 0.2654 - val_acc: 0.8920ETA: 1s - l\n",
      "Epoch 25/50\n",
      "15750/15750 [==============================] - 8s 491us/step - loss: 0.2170 - acc: 0.9113 - val_loss: 0.3472 - val_acc: 0.8189\n",
      "Epoch 26/50\n",
      "15750/15750 [==============================] - 8s 514us/step - loss: 0.2115 - acc: 0.9152 - val_loss: 0.2431 - val_acc: 0.9097\n",
      "Epoch 27/50\n",
      "15750/15750 [==============================] - 9s 567us/step - loss: 0.2437 - acc: 0.8963 - val_loss: 0.3268 - val_acc: 0.8577\n",
      "Epoch 28/50\n",
      "15750/15750 [==============================] - 8s 499us/step - loss: 0.2359 - acc: 0.9015 - val_loss: 0.2509 - val_acc: 0.8989\n",
      "Epoch 29/50\n",
      "15750/15750 [==============================] - 7s 450us/step - loss: 0.2051 - acc: 0.9160 - val_loss: 0.2384 - val_acc: 0.9020\n",
      "Epoch 30/50\n",
      "15750/15750 [==============================] - 6s 388us/step - loss: 0.2094 - acc: 0.9155 - val_loss: 0.2543 - val_acc: 0.8974\n",
      "Epoch 31/50\n",
      "15750/15750 [==============================] - 7s 413us/step - loss: 0.2214 - acc: 0.9095 - val_loss: 0.2126 - val_acc: 0.9177\n",
      "Epoch 32/50\n",
      "15750/15750 [==============================] - 7s 413us/step - loss: 0.2055 - acc: 0.9181 - val_loss: 0.2050 - val_acc: 0.9217\n",
      "Epoch 33/50\n",
      "15750/15750 [==============================] - 7s 433us/step - loss: 0.2050 - acc: 0.9182 - val_loss: 0.2175 - val_acc: 0.9143\n",
      "Epoch 34/50\n",
      "15750/15750 [==============================] - 6s 393us/step - loss: 0.1964 - acc: 0.9192 - val_loss: 0.1946 - val_acc: 0.9240\n",
      "Epoch 35/50\n",
      "15750/15750 [==============================] - 6s 409us/step - loss: 0.1934 - acc: 0.9233 - val_loss: 0.2111 - val_acc: 0.9169\n",
      "Epoch 36/50\n",
      "15750/15750 [==============================] - 8s 510us/step - loss: 0.1876 - acc: 0.9262 - val_loss: 0.3680 - val_acc: 0.8537\n",
      "Epoch 37/50\n",
      "15750/15750 [==============================] - 7s 464us/step - loss: 0.1941 - acc: 0.9228 - val_loss: 0.2149 - val_acc: 0.9169\n",
      "Epoch 38/50\n",
      "15750/15750 [==============================] - 8s 525us/step - loss: 0.1836 - acc: 0.9267 - val_loss: 0.2673 - val_acc: 0.8951\n",
      "Epoch 39/50\n",
      "15750/15750 [==============================] - 7s 475us/step - loss: 0.1896 - acc: 0.9250 - val_loss: 0.2586 - val_acc: 0.8914\n",
      "Epoch 40/50\n",
      "15750/15750 [==============================] - 8s 503us/step - loss: 0.1822 - acc: 0.9270 - val_loss: 0.2006 - val_acc: 0.9217\n",
      "Epoch 41/50\n",
      "15750/15750 [==============================] - 8s 487us/step - loss: 0.1755 - acc: 0.9318 - val_loss: 0.1961 - val_acc: 0.9231\n",
      "Epoch 42/50\n",
      "15750/15750 [==============================] - 8s 511us/step - loss: 0.1793 - acc: 0.9280 - val_loss: 0.2099 - val_acc: 0.9143\n",
      "Epoch 43/50\n",
      "15750/15750 [==============================] - 7s 468us/step - loss: 0.1868 - acc: 0.9256 - val_loss: 0.2476 - val_acc: 0.9020\n",
      "Epoch 44/50\n",
      "15750/15750 [==============================] - 8s 516us/step - loss: 0.1704 - acc: 0.9330 - val_loss: 0.2110 - val_acc: 0.9149\n",
      "Epoch 45/50\n",
      "15750/15750 [==============================] - 8s 478us/step - loss: 0.1755 - acc: 0.9311 - val_loss: 0.2270 - val_acc: 0.9160\n",
      "Epoch 46/50\n",
      "15750/15750 [==============================] - 8s 522us/step - loss: 0.1732 - acc: 0.9331 - val_loss: 0.1903 - val_acc: 0.9277\n",
      "Epoch 47/50\n",
      "15750/15750 [==============================] - 7s 466us/step - loss: 0.1794 - acc: 0.9281 - val_loss: 0.2148 - val_acc: 0.9146\n",
      "Epoch 48/50\n",
      "15750/15750 [==============================] - 8s 528us/step - loss: 0.1773 - acc: 0.9300 - val_loss: 0.1974 - val_acc: 0.9226\n",
      "Epoch 49/50\n",
      "15750/15750 [==============================] - 8s 478us/step - loss: 0.1631 - acc: 0.9370 - val_loss: 0.1946 - val_acc: 0.9274\n",
      "Epoch 50/50\n",
      "15750/15750 [==============================] - 8s 506us/step - loss: 0.1692 - acc: 0.9327 - val_loss: 0.1949 - val_acc: 0.9306\n"
     ]
    },
    {
     "data": {
      "text/plain": [
       "<keras.callbacks.History at 0x1b791d56588>"
      ]
     },
     "execution_count": 177,
     "metadata": {},
     "output_type": "execute_result"
    }
   ],
   "source": [
    "save_dir = os.path.join(os.getcwd(), 'res_logs')\n",
    "date = datetime.today()\n",
    "year = date.strftime(\"%Y\")\n",
    "month = date.strftime(\"%m\")\n",
    "day = date.strftime(\"%d\")\n",
    "hour = date.strftime(\"%H\")\n",
    "minute = date.strftime(\"%M\")\n",
    "model_name = \"{}{}{}{}{}{}{}_es{}_lr{}_bs{}_{}_ly{}_nf{}\" \\\n",
    ".format('MLP','MLP', year, month, day, hour, minute, 50, lr, 64, act, nb_layer, 0)\n",
    "if not os.path.isdir(save_dir):\n",
    "    os.makedirs(save_dir)\n",
    "    filepath = os.path.join(save_dir, model_name)\n",
    "    callbacks = TensorBoard(log_dir=filepath)\n",
    "tb_callback = TensorBoard(log_dir=\"./logs_3/\" )\n",
    "model.fit(x_train, y_train,batch_size=64,epochs=50, validation_data=(x_test, y_test),callbacks=[tb_callback])"
   ]
  },
  {
   "cell_type": "code",
   "execution_count": 168,
   "metadata": {},
   "outputs": [
    {
     "name": "stdout",
     "output_type": "stream",
     "text": [
      "4000\n"
     ]
    }
   ],
   "source": [
    "filenames_test = ['C:/Users/Jihed/Downloads/Competition_Kaggle-master/Data/data/test/' + f for f in listdir('C:/Users/Jihed/Downloads/Competition_Kaggle-master/Data/data/test/') if isfile(join('C:/Users/Jihed/Downloads/Competition_Kaggle-master/Data/data/test/', f))]\n",
    "print(len(filenames_test))\n",
    "test = []\n",
    "i = 0\n",
    "for file_name in filenames_test:\n",
    "    img = cv2.imread(file_name)\n",
    "    img = img.reshape(32 * 32 * 3, )\n",
    "    img = img / 255\n",
    "    test.append(img)"
   ]
  },
  {
   "cell_type": "code",
   "execution_count": 169,
   "metadata": {},
   "outputs": [
    {
     "name": "stdout",
     "output_type": "stream",
     "text": [
      "[1 1 0 ... 1 1 1]\n"
     ]
    }
   ],
   "source": [
    "test = np.array(test)\n",
    "#test = np.reshape(test, (-1, 32, 32, 3))\n",
    "pred1 = model.predict(test)\n",
    "predf = pred1.argmax(axis=-1)\n",
    "print(predf)"
   ]
  },
  {
   "cell_type": "code",
   "execution_count": 170,
   "metadata": {},
   "outputs": [],
   "source": [
    "df = pd.DataFrame({\"id\": filenames_test, \"has_cactus\": predf})\n"
   ]
  },
  {
   "cell_type": "code",
   "execution_count": 171,
   "metadata": {},
   "outputs": [],
   "source": [
    "df.to_csv(\"C:/Users/Jihed/Downloads/data/prediction/predict_2.csv\" ,index=False)"
   ]
  },
  {
   "cell_type": "code",
   "execution_count": null,
   "metadata": {},
   "outputs": [],
   "source": []
  }
 ],
 "metadata": {
  "kernelspec": {
   "display_name": "Python 3",
   "language": "python",
   "name": "python3"
  },
  "language_info": {
   "codemirror_mode": {
    "name": "ipython",
    "version": 3
   },
   "file_extension": ".py",
   "mimetype": "text/x-python",
   "name": "python",
   "nbconvert_exporter": "python",
   "pygments_lexer": "ipython3",
   "version": "3.5.2"
  }
 },
 "nbformat": 4,
 "nbformat_minor": 2
}
