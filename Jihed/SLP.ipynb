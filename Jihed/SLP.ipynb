{
 "cells": [
  {
   "cell_type": "code",
   "execution_count": 1,
   "metadata": {},
   "outputs": [
    {
     "name": "stderr",
     "output_type": "stream",
     "text": [
      "Using TensorFlow backend.\n"
     ]
    }
   ],
   "source": [
    "import keras\n",
    "import os\n",
    "import pandas as pd\n",
    "import numpy as np\n",
    "import tensorflow as tf\n",
    "from keras.optimizers import SGD\n",
    "\n",
    "from keras.layers import Input, Embedding, LSTM, Dense, BatchNormalization, concatenate, multiply, add, Activation, Flatten\n",
    "from keras.models import Model\n",
    "from keras.callbacks import TensorBoard\n",
    "from datetime import datetime"
   ]
  },
  {
   "cell_type": "code",
   "execution_count": 2,
   "metadata": {},
   "outputs": [],
   "source": [
    "config = tf.ConfigProto()\n",
    "config.gpu_options.allow_growth = True\n",
    "config.gpu_options.per_process_gpu_memory_fraction = 0.2 \n",
    "sess = tf.Session(config=config)"
   ]
  },
  {
   "cell_type": "code",
   "execution_count": null,
   "metadata": {},
   "outputs": [],
   "source": [
    "batch_size=128\n",
    "epochs=2\n",
    "lera=0.001\n",
    "activation=\"relu\""
   ]
  },
  {
   "cell_type": "code",
   "execution_count": null,
   "metadata": {},
   "outputs": [],
   "source": [
    "train_input1 = np.load(\"../Data/train-input_1.npy\")\n",
    "train_input2 = np.load(\"../Data/train-input_2.npy\")\n",
    "train_output1 = np.load(\"../Data/train-output_1.npy\")\n",
    "train_output2 = np.load(\"../Data/train-output_2.npy\")\n",
    "validation_input_1 = np.load(\"../Data/validation-input_1.npy\")\n",
    "validation_input_2 = np.load(\"../Data/validation-input_2.npy\")\n",
    "validation_output_1 = np.load(\"../Data/validation-output_1.npy\")\n",
    "validation_output_2 = np.load(\"../Data/validation-output_2.npy\")"
   ]
  },
  {
   "cell_type": "code",
   "execution_count": null,
   "metadata": {},
   "outputs": [],
   "source": [
    "train_input1[0]"
   ]
  },
  {
   "cell_type": "code",
   "execution_count": null,
   "metadata": {},
   "outputs": [],
   "source": [
    "print(\"train_input1\" + str(train_input1))\n",
    "print(\"train_input1 shape\" + str(train_input1.shape))\n",
    "print(\"train_input2\" + str(train_input2))\n",
    "print(\"train_input2 shape\" + str(train_input2.shape))\n",
    "print(\"train_output1\" + str(train_output1))\n",
    "print(\"train_output1 shape\" + str(train_output1.shape))\n",
    "print(\"train_output2\" + str(train_output2))\n",
    "print(\"train_output2 shape\" + str(train_output2.shape))\n",
    "print(\"validation_input_1\" + str(validation_input_1))\n",
    "print(\"validation_input_1 shape\" + str(validation_input_1.shape))\n",
    "print(\"validation_input_2\" + str(validation_input_2))\n",
    "print(\"validation_input_2 shape\" + str(validation_input_2.shape))\n",
    "print(\"validation_output_1\" + str(validation_output_1))\n",
    "print(\"validation_output_1\" + str(validation_output_1.shape))\n",
    "print(\"validation_output_2\" + str(validation_output_2))\n",
    "print(\"validation_output_2 shape\" + str(validation_output_2.shape))"
   ]
  },
  {
   "cell_type": "code",
   "execution_count": null,
   "metadata": {},
   "outputs": [],
   "source": [
    "#input_1_shape = train_input1.shape\n",
    "#input_2_shape = train_input2.shape\n",
    "output_1_shape = train_output1.shape\n",
    "output_2_shape = train_output2.shape\n",
    "\n",
    "input_1_shape = 884,\n",
    "input_2_shape = 260,\n",
    "\n",
    "input_1 = Input(shape=(884,), name=\"intput_1\")\n",
    "input_2 = Input(shape=(260,), name=\"intput_2\")\n",
    "output_1 = Dense(260, activation='softmax', name=\"output_1\")(input_1 )\n",
    "output_2 = Dense(1, activation='sigmoid', name=\"output_2\")(input_2)"
   ]
  },
  {
   "cell_type": "code",
   "execution_count": null,
   "metadata": {},
   "outputs": [],
   "source": [
    "act='selu'\n",
    "n=260\n",
    "lera=0.01"
   ]
  },
  {
   "cell_type": "code",
   "execution_count": null,
   "metadata": {},
   "outputs": [],
   "source": [
    "inputs_1 = input_1\n",
    "inputs_2 = input_2\n",
    "concat= concatenate([input_1, input_2])\n",
    "#y=Dense(n, activation=act)(inputs_1)\n",
    "#x=Dense(n, activation=act)(inputs_2)\n",
    "\n",
    "#x=Dense(n, activation=act)(x)\n",
    "concat=Dense(n, activation=act)(concat)\n",
    "output_2=Dense(1, activation='sigmoid', name=\"output_2\")(concat)\n",
    "\n",
    "#y=Dense(n, activation=act)(y)\n",
    "output_1=Dense(260,activation='softmax', name=\"output_1\")(concat)\n",
    "sgd = SGD(lr=lera)\n",
    "\n",
    "\n",
    "model = Model(inputs=[inputs_1, inputs_2], outputs=[output_1, output_2])\n",
    "\n",
    "model.compile(optimizer='adam',\n",
    "              loss={'output_1': 'categorical_crossentropy', 'output_2': 'binary_crossentropy'},\n",
    "              loss_weights={'output_1': 1.0, 'output_2': 0.001}, metrics=['accuracy'])\n",
    "model.summary()"
   ]
  },
  {
   "cell_type": "code",
   "execution_count": null,
   "metadata": {},
   "outputs": [],
   "source": [
    "\n",
    "\n",
    "# And trained it via:\n",
    "#model.fit_generator({'main_input': train_input1, 'aux_input': train_input2},\n",
    "#                      {'main_output': train_output1, 'aux_output': train_output2},\n",
    "#                      samples_per_epoch=10000, steps_per_epoch=(train_samples/ batch_size),)\n",
    "                        \n",
    "#X_out = np.concatenate([train_output1, train_output2])\n",
    "#r=len(train_output1)+len(train_output2)\n",
    "#X_out = np.memmap(\"../Data/train-output_1.npy\", shape=(r), mode='r+')\n",
    "#X_out[len(train_output1):] = train_output2\n",
    "\n",
    "#r=len(train_input1)+len(train_input2)\n",
    "#X_in = np.memmap(\"../Data/train-input_1.npy\", shape=(r), mode='r+')\n",
    "#X_in[len(train_input1):] = train_input2\n",
    "\n",
    "save_dir = os.path.join(os.getcwd(), 'res_logs')\n",
    "date = datetime.today()\n",
    "year = date.strftime(\"%Y\")\n",
    "month = date.strftime(\"%m\")\n",
    "day = date.strftime(\"%d\")\n",
    "hour = date.strftime(\"%H\")\n",
    "minute = date.strftime(\"%M\")\n",
    "model_name = \"{}{}{}{}{}_test\" \\\n",
    "    .format(year, month, day, hour, minute)\n",
    "if not os.path.isdir(save_dir):\n",
    "    os.makedirs(save_dir)\n",
    "filepath = os.path.join(save_dir, model_name)\n",
    "callbacks = TensorBoard(log_dir=filepath)\n",
    "\n",
    "#model.fit_generator([train_input1, train_input2], steps_per_epoch=15, epochs=1, verbose=1, \n",
    "#              callbacks=None, validation_data=X_out, \n",
    "#              validation_steps=None, class_weight=None, max_queue_size=10, workers=3, use_multiprocessing=True, \n",
    "#              shuffle=True, initial_epoch=0)\n",
    "\n",
    "model.fit([train_input1, train_input2],\n",
    "          [train_output1, train_output2],\n",
    "          epochs=10, batch_size=4096, callbacks=[callbacks],\n",
    "         validation_data=([validation_input_1, validation_input_2], [validation_output_1, validation_output_2]))"
   ]
  },
  {
   "cell_type": "code",
   "execution_count": null,
   "metadata": {},
   "outputs": [],
   "source": []
  }
 ],
 "metadata": {
  "kernelspec": {
   "display_name": "Python 3",
   "language": "python",
   "name": "python3"
  },
  "language_info": {
   "codemirror_mode": {
    "name": "ipython",
    "version": 3
   },
   "file_extension": ".py",
   "mimetype": "text/x-python",
   "name": "python",
   "nbconvert_exporter": "python",
   "pygments_lexer": "ipython3",
   "version": "3.5.2"
  }
 },
 "nbformat": 4,
 "nbformat_minor": 2
}
