{
 "cells": [
  {
   "cell_type": "code",
   "execution_count": 1,
   "metadata": {},
   "outputs": [],
   "source": [
    "import numpy as np\n",
    "\n",
    "from os import path"
   ]
  },
  {
   "cell_type": "code",
   "execution_count": 2,
   "metadata": {},
   "outputs": [],
   "source": [
    "dataset_path = \"/home/ubuntu/dataset\"\n",
    "\n",
    "X_train_1 = np.load(path.join(dataset_path, \"train-input_1.npy\"), mmap_mode='r')\n",
    "y_train_1 = np.load(path.join(dataset_path, \"train-output_1.npy\"), mmap_mode='r')\n",
    "\n",
    "X_train_2 = np.load(path.join(dataset_path, \"train-input_2.npy\"), mmap_mode='r')\n",
    "y_train_2 = np.load(path.join(dataset_path, \"train-output_2.npy\"), mmap_mode='r')\n",
    "\n",
    "X_val_1 = np.load(path.join(dataset_path, \"validation-input_1.npy\"), mmap_mode='r')\n",
    "y_val_1 = np.load(path.join(dataset_path, \"validation-output_1.npy\"), mmap_mode='r')\n",
    "\n",
    "X_val_2 = np.load(path.join(dataset_path, \"validation-input_2.npy\"), mmap_mode='r')\n",
    "y_val_2 = np.load(path.join(dataset_path, \"validation-output_2.npy\"), mmap_mode='r')"
   ]
  },
  {
   "cell_type": "code",
   "execution_count": 4,
   "metadata": {},
   "outputs": [],
   "source": [
    "X_train_1_splits = np.split(X_train_1, 4)\n",
    "for i, split in enumerate(X_train_1_splits):\n",
    "    np.save(path.join(dataset_path, f\"train-input_1-{i+1}.npy\"), split)"
   ]
  },
  {
   "cell_type": "code",
   "execution_count": 5,
   "metadata": {},
   "outputs": [],
   "source": [
    "y_train_1_splits = np.split(y_train_1, 4)\n",
    "for i, split in enumerate(y_train_1_splits):\n",
    "    np.save(path.join(dataset_path, f\"train-output_1-{i+1}.npy\"), split)"
   ]
  },
  {
   "cell_type": "code",
   "execution_count": 6,
   "metadata": {},
   "outputs": [],
   "source": [
    "X_train_2_splits = np.split(X_train_2, 4)\n",
    "for i, split in enumerate(X_train_2_splits):\n",
    "    np.save(path.join(dataset_path, f\"train-input_2-{i+1}.npy\"), split)"
   ]
  },
  {
   "cell_type": "code",
   "execution_count": 7,
   "metadata": {},
   "outputs": [],
   "source": [
    "y_train_2_splits = np.split(y_train_2, 4)\n",
    "for i, split in enumerate(y_train_2_splits):\n",
    "    np.save(path.join(dataset_path, f\"train-output_2-{i+1}.npy\"), split)"
   ]
  }
 ],
 "metadata": {
  "kernelspec": {
   "display_name": "Python 3",
   "language": "python",
   "name": "python3"
  },
  "language_info": {
   "codemirror_mode": {
    "name": "ipython",
    "version": 3
   },
   "file_extension": ".py",
   "mimetype": "text/x-python",
   "name": "python",
   "nbconvert_exporter": "python",
   "pygments_lexer": "ipython3",
   "version": "3.6.5"
  }
 },
 "nbformat": 4,
 "nbformat_minor": 2
}
